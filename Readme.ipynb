{
 "cells": [
  {
   "cell_type": "markdown",
   "metadata": {},
   "source": [
    "# Data Analysis on Mental Health \n",
    "\n",
    "## Research question: Is there a relationship between suicide rates and selected environmental factors in Singapore? \n",
    "\n",
    "### Background\n",
    "\n",
    "There continues to be a great deal of stigma associated with mental health challenges in Singapore. This stigma usually ascribes mental illness to individual weaknesses or character flaws. However, mental health is a function of biological, psychological, and social factors. This project seeks to better understand the relationship between mental health and selected biological / social factors in Singapore. \n",
    "\n",
    "### Limitations \n",
    "\n",
    "This research is limited by the following factors: \n",
    "- It uses the following proxies: \n",
    "    - It uses rates of suicide as a proxy for mental health \n",
    "    - It uses obesity rates as a proxity for general physical health\n",
    "    - It uses GDP growth and unemployment rates as a proxy for economic stressors\n",
    "\n",
    "\n",
    "\n"
   ]
  },
  {
   "cell_type": "code",
   "execution_count": null,
   "metadata": {},
   "outputs": [],
   "source": []
  },
  {
   "cell_type": "code",
   "execution_count": null,
   "metadata": {},
   "outputs": [],
   "source": []
  }
 ],
 "metadata": {
  "kernelspec": {
   "display_name": "Python 3",
   "language": "python",
   "name": "python3"
  },
  "language_info": {
   "codemirror_mode": {
    "name": "ipython",
    "version": 3
   },
   "file_extension": ".py",
   "mimetype": "text/x-python",
   "name": "python",
   "nbconvert_exporter": "python",
   "pygments_lexer": "ipython3",
   "version": "3.7.1"
  }
 },
 "nbformat": 4,
 "nbformat_minor": 2
}
